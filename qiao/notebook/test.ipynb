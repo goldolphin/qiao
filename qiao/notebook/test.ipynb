{
 "cells": [
  {
   "cell_type": "code",
   "execution_count": 3,
   "metadata": {},
   "outputs": [
    {
     "data": {
      "text/plain": [
       "array([[0.21201361, 0.27673842, 0.0050481 , 0.20945755, 0.98746702,\n",
       "        0.6371226 ],\n",
       "       [0.89368464, 0.7085279 , 0.87047948, 0.54380501, 0.70559555,\n",
       "        0.83740999],\n",
       "       [0.06334713, 0.95903934, 0.59272169, 0.87132585, 0.54212031,\n",
       "        0.1639406 ],\n",
       "       [0.91398031, 0.19227779, 0.74793284, 0.66513786, 0.41083619,\n",
       "        0.79761879],\n",
       "       [0.13264394, 0.1181694 , 0.54139297, 0.78651614, 0.74611829,\n",
       "        0.60776838]])"
      ]
     },
     "execution_count": 3,
     "metadata": {},
     "output_type": "execute_result"
    }
   ],
   "source": [
    "import numpy as np\n",
    "\n",
    "a = np.random.random(size=(5, 6))\n",
    "\n",
    "a\n"
   ]
  },
  {
   "cell_type": "code",
   "execution_count": 12,
   "metadata": {},
   "outputs": [
    {
     "data": {
      "text/plain": [
       "4"
      ]
     },
     "execution_count": 12,
     "metadata": {},
     "output_type": "execute_result"
    }
   ],
   "source": [
    "r, c = np.where(a > 0.9)\n",
    "list(zip(r, c))\n",
    "np.argwhere(a > 0.9)"
   ]
  }
 ],
 "metadata": {
  "kernelspec": {
   "display_name": "qiao-eU7Zr_5o-py3.11",
   "language": "python",
   "name": "python3"
  },
  "language_info": {
   "codemirror_mode": {
    "name": "ipython",
    "version": 3
   },
   "file_extension": ".py",
   "mimetype": "text/x-python",
   "name": "python",
   "nbconvert_exporter": "python",
   "pygments_lexer": "ipython3",
   "version": "3.11.5"
  }
 },
 "nbformat": 4,
 "nbformat_minor": 2
}
